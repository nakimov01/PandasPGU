{
 "cells": [
  {
   "cell_type": "code",
   "execution_count": 1,
   "id": "5133f65e-a5ce-426b-b01d-eda9751f30cc",
   "metadata": {
    "tags": []
   },
   "outputs": [],
   "source": [
    "import pandas as pd"
   ]
  },
  {
   "cell_type": "code",
   "execution_count": 5,
   "id": "d0de05e6-000e-47d8-b22d-a1c96d6ee432",
   "metadata": {
    "tags": []
   },
   "outputs": [],
   "source": [
    "data = pd.read_csv('C://Users//youca//PycharmProjects//PandasPGU//bookings.csv')"
   ]
  },
  {
   "cell_type": "code",
   "execution_count": 6,
   "id": "73605feb-8fd5-4fa0-8999-10b13fd54619",
   "metadata": {
    "tags": []
   },
   "outputs": [
    {
     "data": {
      "text/html": [
       "<div>\n",
       "<style scoped>\n",
       "    .dataframe tbody tr th:only-of-type {\n",
       "        vertical-align: middle;\n",
       "    }\n",
       "\n",
       "    .dataframe tbody tr th {\n",
       "        vertical-align: top;\n",
       "    }\n",
       "\n",
       "    .dataframe thead th {\n",
       "        text-align: right;\n",
       "    }\n",
       "</style>\n",
       "<table border=\"1\" class=\"dataframe\">\n",
       "  <thead>\n",
       "    <tr style=\"text-align: right;\">\n",
       "      <th></th>\n",
       "      <th>Hotel;Is Canceled;Lead Time;arrival full date;Arrival Date Year;Arrival Date Month;Arrival Date Week Number;Arrival Date Day of Month;Stays in Weekend nights;Stays in week nights;stays total nights;Adults;Children;Babies;Meal;Country;Reserved Room Type;Assigned room type;customer type;Reservation Status;Reservation status_date</th>\n",
       "    </tr>\n",
       "  </thead>\n",
       "  <tbody>\n",
       "    <tr>\n",
       "      <th>0</th>\n",
       "      <td>Resort Hotel;0;342;2015-07-01;2015;July;27;1;0...</td>\n",
       "    </tr>\n",
       "    <tr>\n",
       "      <th>1</th>\n",
       "      <td>Resort Hotel;0;737;2015-07-01;2015;July;27;1;0...</td>\n",
       "    </tr>\n",
       "    <tr>\n",
       "      <th>2</th>\n",
       "      <td>Resort Hotel;0;7;2015-07-01;2015;July;27;1;0;1...</td>\n",
       "    </tr>\n",
       "    <tr>\n",
       "      <th>3</th>\n",
       "      <td>Resort Hotel;0;13;2015-07-01;2015;July;27;1;0;...</td>\n",
       "    </tr>\n",
       "    <tr>\n",
       "      <th>4</th>\n",
       "      <td>Resort Hotel;0;14;2015-07-01;2015;July;27;1;0;...</td>\n",
       "    </tr>\n",
       "    <tr>\n",
       "      <th>...</th>\n",
       "      <td>...</td>\n",
       "    </tr>\n",
       "    <tr>\n",
       "      <th>119385</th>\n",
       "      <td>City Hotel;0;23;2017-08-30;2017;August;35;30;2...</td>\n",
       "    </tr>\n",
       "    <tr>\n",
       "      <th>119386</th>\n",
       "      <td>City Hotel;0;102;2017-08-31;2017;August;35;31;...</td>\n",
       "    </tr>\n",
       "    <tr>\n",
       "      <th>119387</th>\n",
       "      <td>City Hotel;0;34;2017-08-31;2017;August;35;31;2...</td>\n",
       "    </tr>\n",
       "    <tr>\n",
       "      <th>119388</th>\n",
       "      <td>City Hotel;0;109;2017-08-31;2017;August;35;31;...</td>\n",
       "    </tr>\n",
       "    <tr>\n",
       "      <th>119389</th>\n",
       "      <td>City Hotel;0;205;2017-08-29;2017;August;35;29;...</td>\n",
       "    </tr>\n",
       "  </tbody>\n",
       "</table>\n",
       "<p>119390 rows × 1 columns</p>\n",
       "</div>"
      ],
      "text/plain": [
       "       Hotel;Is Canceled;Lead Time;arrival full date;Arrival Date Year;Arrival Date Month;Arrival Date Week Number;Arrival Date Day of Month;Stays in Weekend nights;Stays in week nights;stays total nights;Adults;Children;Babies;Meal;Country;Reserved Room Type;Assigned room type;customer type;Reservation Status;Reservation status_date\n",
       "0       Resort Hotel;0;342;2015-07-01;2015;July;27;1;0...                                                                                                                                                                                                                                                                                      \n",
       "1       Resort Hotel;0;737;2015-07-01;2015;July;27;1;0...                                                                                                                                                                                                                                                                                      \n",
       "2       Resort Hotel;0;7;2015-07-01;2015;July;27;1;0;1...                                                                                                                                                                                                                                                                                      \n",
       "3       Resort Hotel;0;13;2015-07-01;2015;July;27;1;0;...                                                                                                                                                                                                                                                                                      \n",
       "4       Resort Hotel;0;14;2015-07-01;2015;July;27;1;0;...                                                                                                                                                                                                                                                                                      \n",
       "...                                                   ...                                                                                                                                                                                                                                                                                      \n",
       "119385  City Hotel;0;23;2017-08-30;2017;August;35;30;2...                                                                                                                                                                                                                                                                                      \n",
       "119386  City Hotel;0;102;2017-08-31;2017;August;35;31;...                                                                                                                                                                                                                                                                                      \n",
       "119387  City Hotel;0;34;2017-08-31;2017;August;35;31;2...                                                                                                                                                                                                                                                                                      \n",
       "119388  City Hotel;0;109;2017-08-31;2017;August;35;31;...                                                                                                                                                                                                                                                                                      \n",
       "119389  City Hotel;0;205;2017-08-29;2017;August;35;29;...                                                                                                                                                                                                                                                                                      \n",
       "\n",
       "[119390 rows x 1 columns]"
      ]
     },
     "execution_count": 6,
     "metadata": {},
     "output_type": "execute_result"
    }
   ],
   "source": [
    "data"
   ]
  },
  {
   "cell_type": "code",
   "execution_count": null,
   "id": "977254b8-ee74-4105-880e-ed8d2a386b4a",
   "metadata": {},
   "outputs": [],
   "source": []
  }
 ],
 "metadata": {
  "kernelspec": {
   "display_name": "Python 3 (ipykernel)",
   "language": "python",
   "name": "python3"
  },
  "language_info": {
   "codemirror_mode": {
    "name": "ipython",
    "version": 3
   },
   "file_extension": ".py",
   "mimetype": "text/x-python",
   "name": "python",
   "nbconvert_exporter": "python",
   "pygments_lexer": "ipython3",
   "version": "3.10.10"
  }
 },
 "nbformat": 4,
 "nbformat_minor": 5
}
